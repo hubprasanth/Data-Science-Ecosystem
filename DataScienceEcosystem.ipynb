{
 "cells": [
  {
   "cell_type": "markdown",
   "id": "bcb21f98-7512-450b-bf60-736b92bcec17",
   "metadata": {},
   "source": [
    "# DataScienceEcosystem"
   ]
  },
  {
   "cell_type": "markdown",
   "id": "e94c87c0-3b2d-4576-9aa8-1a173378e87a",
   "metadata": {},
   "source": [
    "# DataScienceEcosystem"
   ]
  },
  {
   "cell_type": "markdown",
   "id": "e6358192-4f6d-4516-8d22-5c694610cbfc",
   "metadata": {},
   "source": [
    "In this notebook, we will summarise the most important data science tools and ecosystems, such as languages, libraries, and frameworks."
   ]
  },
  {
   "cell_type": "markdown",
   "id": "6a8e9da4-da25-4508-af48-8f7e20364d42",
   "metadata": {},
   "source": [
    "#Some of the popular languages that Data Scientists use are:\n",
    "\n",
    "1. Python\n",
    "2. R\n",
    "3. SQL\n",
    "4. Java\n",
    "5. Scala\n",
    "6. Julia"
   ]
  },
  {
   "cell_type": "markdown",
   "id": "2cc020e5-a113-41b0-b4a4-63a33b440fd9",
   "metadata": {},
   "source": [
    "#Some of the popular languages that Data Scientists use are:\n",
    "\n",
    "1. Python\n",
    "2. R\n",
    "3. SQL\n",
    "4. Java\n",
    "5. Scala\n",
    "6. Julia"
   ]
  },
  {
   "cell_type": "markdown",
   "id": "c21b9cf2-0885-4062-8197-5e9187e4291c",
   "metadata": {},
   "source": [
    "## Among the libraries commonly used by Data Scientists are:\n",
    "1. NumPy\n",
    "2. Pandas\n",
    "3. Matplotlib\n",
    "4. Scikit-learn\n",
    "5. TensorFlow\n",
    "6. PyTorch"
   ]
  },
  {
   "cell_type": "markdown",
   "id": "256fe15a-a9da-4d59-829c-580d57224369",
   "metadata": {},
   "source": [
    "## Among the libraries commonly used by Data Scientists are:\n",
    "1. NumPy\n",
    "2. Pandas\n",
    "3. Matplotlib\n",
    "4. Scikit-learn\n",
    "5. TensorFlow\n",
    "6. PyTorch"
   ]
  },
  {
   "cell_type": "markdown",
   "id": "e8c5dc8a-69ba-41ba-8aa9-6a79f892086c",
   "metadata": {},
   "source": [
    "# Data Science Tools\n",
    "1. Jupyter Notebook \n",
    "2. RStudio\n",
    "3. Spyder"
   ]
  },
  {
   "cell_type": "markdown",
   "id": "47c0f437-ed5d-448f-a72e-aae133b3d38a",
   "metadata": {},
   "source": [
    "# Data Science Tools\n",
    "1. Jupyter Notebook \n",
    "2. RStudio\n",
    "3. Spyder"
   ]
  },
  {
   "cell_type": "markdown",
   "id": "65724eae-ea04-470f-b675-8c2b8d949a7d",
   "metadata": {},
   "source": [
    "### Below are a few examples of evaluating arithmetic expressions in Python.\n",
    "\n",
    "Arithmetic expressions are an essential part of Python programming. In this cell, we will look at some simple Python examples of evaluating arithmetic expressions."
   ]
  },
  {
   "cell_type": "markdown",
   "id": "241ac5d1-98c9-4d7b-9cab-305779d5eea6",
   "metadata": {},
   "source": [
    "### Below are a few examples of evaluating arithmetic expressions in Python.\n",
    "\n",
    "Arithmetic expressions are an essential part of Python programming. In this cell, we will look at some simple Python examples of evaluating arithmetic expressions."
   ]
  },
  {
   "cell_type": "markdown",
   "id": "a6ac2c9c-4a09-4b58-b055-8dd549454fbc",
   "metadata": {},
   "source": [
    "# This is a simple arithmetic expression to multiply then add integers.\n"
   ]
  },
  {
   "cell_type": "markdown",
   "id": "5bfffcbb-2f1e-46c4-a5ee-cf4dcddb34dd",
   "metadata": {},
   "source": [
    "# This is a simple arithmetic expression to multiply then add integers.\n"
   ]
  },
  {
   "cell_type": "code",
   "execution_count": 1,
   "id": "d38ef531-c0df-436d-ba6a-3021ad9a2746",
   "metadata": {},
   "outputs": [
    {
     "name": "stdout",
     "output_type": "stream",
     "text": [
      "17\n"
     ]
    }
   ],
   "source": [
    "a=3\n",
    "b=4\n",
    "c=5\n",
    "result = (3 * 4) + 5\n",
    "print(result)"
   ]
  },
  {
   "cell_type": "markdown",
   "id": "297c9f4f-c248-4e79-ba21-e82989bf3bdb",
   "metadata": {},
   "source": [
    "# This will convert 200 minutes to hours by dividing by 60.\n"
   ]
  },
  {
   "cell_type": "code",
   "execution_count": 2,
   "id": "2490955f-1ed4-43bd-86d0-f4deb0b715e0",
   "metadata": {},
   "outputs": [
    {
     "name": "stdout",
     "output_type": "stream",
     "text": [
      "3.3333333333333335\n"
     ]
    }
   ],
   "source": [
    "minutes = 200\n",
    "hours = minutes / 60\n",
    "print(hours)"
   ]
  },
  {
   "cell_type": "markdown",
   "id": "f95aba78-0ae5-4354-b65d-28fa9c822114",
   "metadata": {},
   "source": [
    "Objectives:\n",
    "\n",
    "* List of popular Data Science languages\n",
    "* Describe the Jupyter Notebook environment\n",
    "* Show how to use Markdown for documentation. \n",
    "* Describe variable types and operations in Python Demonstrate how to use NumPy and Pandas to perform basic data analysis."
   ]
  },
  {
   "cell_type": "markdown",
   "id": "e5f51aed-2c9c-4c7d-ad6a-491ac1ab9b55",
   "metadata": {},
   "source": [
    "Objectives:\n",
    "\n",
    "* List of popular Data Science languages\n",
    "* Describe the Jupyter Notebook environment\n",
    "* Show how to use Markdown for documentation. \n",
    "* Describe variable types and operations in Python Demonstrate how to use NumPy and Pandas to perform basic data analysis."
   ]
  },
  {
   "cell_type": "markdown",
   "id": "7f3b9f1b-8ed3-44f0-a49e-21f178373c4f",
   "metadata": {},
   "source": [
    "## Author\n",
    "* Lakshmi Holla\n",
    "\n",
    "* Niveditha Pandith"
   ]
  },
  {
   "cell_type": "markdown",
   "id": "7b5978ec-7f0c-452b-89ae-bcd4b09e9e4d",
   "metadata": {},
   "source": [
    "## Author\n",
    "* Lakshmi Holla\n",
    "\n",
    "* Niveditha Pandith"
   ]
  }
 ],
 "metadata": {
  "kernelspec": {
   "display_name": "Python",
   "language": "python",
   "name": "conda-env-python-py"
  },
  "language_info": {
   "codemirror_mode": {
    "name": "ipython",
    "version": 3
   },
   "file_extension": ".py",
   "mimetype": "text/x-python",
   "name": "python",
   "nbconvert_exporter": "python",
   "pygments_lexer": "ipython3",
   "version": "3.7.12"
  }
 },
 "nbformat": 4,
 "nbformat_minor": 5
}
